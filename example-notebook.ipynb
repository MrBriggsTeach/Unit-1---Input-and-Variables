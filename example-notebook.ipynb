{
 "cells": [
  {
   "cell_type": "markdown",
   "metadata": {},
   "source": [
    "# Basic Pandas operations\n",
    "This notebook will walk you through some basic operations with the Pandas Python library to explore a small dataset from wine regions around the world.\n",
    "\n",
    "**Learning Objectives:**\n",
    "\n",
    "1. Import Pandas using a common pattern\n",
    "1. Read a CSV dataset from disk\n",
    "1. Perform a quick overview of the dataset\n",
    "1. Use plot to provide visual context"
   ]
  },
  {
   "cell_type": "markdown",
   "metadata": {},
   "source": [
    "### Import Pandas \n",
    "And then read a local CSV dataset file"
   ]
  },
  {
   "cell_type": "code",
   "execution_count": 1,
   "metadata": {},
   "outputs": [
    {
     "data": {
      "text/html": [
       "<div>\n",
       "<style scoped>\n",
       "    .dataframe tbody tr th:only-of-type {\n",
       "        vertical-align: middle;\n",
       "    }\n",
       "\n",
       "    .dataframe tbody tr th {\n",
       "        vertical-align: top;\n",
       "    }\n",
       "\n",
       "    .dataframe thead th {\n",
       "        text-align: right;\n",
       "    }\n",
       "</style>\n",
       "<table border=\"1\" class=\"dataframe\">\n",
       "  <thead>\n",
       "    <tr style=\"text-align: right;\">\n",
       "      <th></th>\n",
       "      <th>region</th>\n",
       "      <th>variety</th>\n",
       "      <th>rating</th>\n",
       "    </tr>\n",
       "  </thead>\n",
       "  <tbody>\n",
       "    <tr>\n",
       "      <th>0</th>\n",
       "      <td>Pessac-Leognan, Bordeaux, France</td>\n",
       "      <td>Red Wine</td>\n",
       "      <td>90.0</td>\n",
       "    </tr>\n",
       "    <tr>\n",
       "      <th>1</th>\n",
       "      <td>Spain</td>\n",
       "      <td>Sparkling &amp; Champagne</td>\n",
       "      <td>88.0</td>\n",
       "    </tr>\n",
       "    <tr>\n",
       "      <th>2</th>\n",
       "      <td>Santa Ynez Valley, Santa Barbara, Central Coas...</td>\n",
       "      <td>Red Wine</td>\n",
       "      <td>96.0</td>\n",
       "    </tr>\n",
       "    <tr>\n",
       "      <th>3</th>\n",
       "      <td>Sta. Rita Hills, Santa Barbara, Central Coast,...</td>\n",
       "      <td>Red Wine</td>\n",
       "      <td>90.0</td>\n",
       "    </tr>\n",
       "    <tr>\n",
       "      <th>4</th>\n",
       "      <td>Burgundy, France</td>\n",
       "      <td>White Wine</td>\n",
       "      <td>94.0</td>\n",
       "    </tr>\n",
       "    <tr>\n",
       "      <th>5</th>\n",
       "      <td>Santa Lucia Highlands, Monterey, Central Coast...</td>\n",
       "      <td>Red Wine</td>\n",
       "      <td>90.0</td>\n",
       "    </tr>\n",
       "    <tr>\n",
       "      <th>6</th>\n",
       "      <td>Argentina</td>\n",
       "      <td>Red Wine</td>\n",
       "      <td>88.0</td>\n",
       "    </tr>\n",
       "    <tr>\n",
       "      <th>7</th>\n",
       "      <td>Chianti Classico, Chianti, Tuscany, Italy</td>\n",
       "      <td>Red Wine</td>\n",
       "      <td>91.0</td>\n",
       "    </tr>\n",
       "    <tr>\n",
       "      <th>8</th>\n",
       "      <td>Ribbon Ridge, Willamette Valley, Oregon</td>\n",
       "      <td>Red Wine</td>\n",
       "      <td>95.0</td>\n",
       "    </tr>\n",
       "    <tr>\n",
       "      <th>9</th>\n",
       "      <td>Barolo, Piedmont, Italy</td>\n",
       "      <td>Red Wine</td>\n",
       "      <td>94.0</td>\n",
       "    </tr>\n",
       "    <tr>\n",
       "      <th>10</th>\n",
       "      <td>Portugal</td>\n",
       "      <td>White Wine</td>\n",
       "      <td>90.0</td>\n",
       "    </tr>\n",
       "    <tr>\n",
       "      <th>11</th>\n",
       "      <td>Central Coast, California</td>\n",
       "      <td>Red Wine</td>\n",
       "      <td>92.0</td>\n",
       "    </tr>\n",
       "    <tr>\n",
       "      <th>12</th>\n",
       "      <td>Central Coast, California</td>\n",
       "      <td>Red Wine</td>\n",
       "      <td>92.0</td>\n",
       "    </tr>\n",
       "    <tr>\n",
       "      <th>13</th>\n",
       "      <td>Alsace, France</td>\n",
       "      <td>White Wine</td>\n",
       "      <td>91.0</td>\n",
       "    </tr>\n",
       "    <tr>\n",
       "      <th>14</th>\n",
       "      <td>Willamette Valley, Oregon</td>\n",
       "      <td>White Wine</td>\n",
       "      <td>90.0</td>\n",
       "    </tr>\n",
       "    <tr>\n",
       "      <th>15</th>\n",
       "      <td>Columbia Valley, Washington</td>\n",
       "      <td>Red Wine</td>\n",
       "      <td>90.0</td>\n",
       "    </tr>\n",
       "    <tr>\n",
       "      <th>16</th>\n",
       "      <td>Napa Valley, California</td>\n",
       "      <td>Red Wine</td>\n",
       "      <td>94.0</td>\n",
       "    </tr>\n",
       "    <tr>\n",
       "      <th>17</th>\n",
       "      <td>Barolo, Piedmont, Italy</td>\n",
       "      <td>Red Wine</td>\n",
       "      <td>92.0</td>\n",
       "    </tr>\n",
       "    <tr>\n",
       "      <th>18</th>\n",
       "      <td>Rioja, Spain</td>\n",
       "      <td>Red Wine</td>\n",
       "      <td>91.0</td>\n",
       "    </tr>\n",
       "    <tr>\n",
       "      <th>19</th>\n",
       "      <td>Eden Valley, Barossa, South Australia, Australia</td>\n",
       "      <td>White Wine</td>\n",
       "      <td>90.0</td>\n",
       "    </tr>\n",
       "  </tbody>\n",
       "</table>\n",
       "</div>"
      ],
      "text/plain": [
       "                                               region                variety  \\\n",
       "0                    Pessac-Leognan, Bordeaux, France               Red Wine   \n",
       "1                                               Spain  Sparkling & Champagne   \n",
       "2   Santa Ynez Valley, Santa Barbara, Central Coas...               Red Wine   \n",
       "3   Sta. Rita Hills, Santa Barbara, Central Coast,...               Red Wine   \n",
       "4                                    Burgundy, France             White Wine   \n",
       "5   Santa Lucia Highlands, Monterey, Central Coast...               Red Wine   \n",
       "6                                           Argentina               Red Wine   \n",
       "7           Chianti Classico, Chianti, Tuscany, Italy               Red Wine   \n",
       "8             Ribbon Ridge, Willamette Valley, Oregon               Red Wine   \n",
       "9                             Barolo, Piedmont, Italy               Red Wine   \n",
       "10                                           Portugal             White Wine   \n",
       "11                          Central Coast, California               Red Wine   \n",
       "12                          Central Coast, California               Red Wine   \n",
       "13                                     Alsace, France             White Wine   \n",
       "14                          Willamette Valley, Oregon             White Wine   \n",
       "15                        Columbia Valley, Washington               Red Wine   \n",
       "16                            Napa Valley, California               Red Wine   \n",
       "17                            Barolo, Piedmont, Italy               Red Wine   \n",
       "18                                       Rioja, Spain               Red Wine   \n",
       "19   Eden Valley, Barossa, South Australia, Australia             White Wine   \n",
       "\n",
       "    rating  \n",
       "0     90.0  \n",
       "1     88.0  \n",
       "2     96.0  \n",
       "3     90.0  \n",
       "4     94.0  \n",
       "5     90.0  \n",
       "6     88.0  \n",
       "7     91.0  \n",
       "8     95.0  \n",
       "9     94.0  \n",
       "10    90.0  \n",
       "11    92.0  \n",
       "12    92.0  \n",
       "13    91.0  \n",
       "14    90.0  \n",
       "15    90.0  \n",
       "16    94.0  \n",
       "17    92.0  \n",
       "18    91.0  \n",
       "19    90.0  "
      ]
     },
     "execution_count": 1,
     "metadata": {},
     "output_type": "execute_result"
    }
   ],
   "source": [
    "import pandas as pd\n",
    "df = pd.read_csv(\"wine-regions.csv\")\n",
    "df.head(20)"
   ]
  },
  {
   "cell_type": "markdown",
   "metadata": {},
   "source": [
    "### Create a randomized subset of data\n",
    "Use the `sample()` method to get `n` items from the dataset"
   ]
  },
  {
   "cell_type": "code",
   "execution_count": null,
   "metadata": {},
   "outputs": [],
   "source": [
    "df.sample(n=20).head()"
   ]
  },
  {
   "cell_type": "markdown",
   "metadata": {},
   "source": [
    "### Get more information about the dataset\n",
    "Use `info()` and `describe()` methods for different aspects of the dataset"
   ]
  },
  {
   "cell_type": "code",
   "execution_count": null,
   "metadata": {},
   "outputs": [],
   "source": [
    "df.describe()"
   ]
  },
  {
   "cell_type": "code",
   "execution_count": null,
   "metadata": {},
   "outputs": [],
   "source": [
    "df.info()"
   ]
  },
  {
   "cell_type": "markdown",
   "metadata": {},
   "source": [
    "### Use plotting for visual context\n",
    "Use the `plot()` method which uses the `matplotlib` library behind the scenes to provide visual context on data"
   ]
  },
  {
   "cell_type": "code",
   "execution_count": null,
   "metadata": {},
   "outputs": [],
   "source": [
    "df.plot()"
   ]
  }
 ],
 "metadata": {
  "kernelspec": {
   "display_name": "Python 3.8.13 ('venv')",
   "language": "python",
   "name": "python3"
  },
  "language_info": {
   "codemirror_mode": {
    "name": "ipython",
    "version": 3
   },
   "file_extension": ".py",
   "mimetype": "text/x-python",
   "name": "python",
   "nbconvert_exporter": "python",
   "pygments_lexer": "ipython3",
   "version": "3.10.12"
  },
  "orig_nbformat": 4,
  "vscode": {
   "interpreter": {
    "hash": "f2a18e7aa35240a52af99ab71370101fdc3f0f419f0b3683d6828ff1fe801d36"
   }
  }
 },
 "nbformat": 4,
 "nbformat_minor": 2
}
