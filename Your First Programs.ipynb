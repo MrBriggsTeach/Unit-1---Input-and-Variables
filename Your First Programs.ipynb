{
 "cells": [
  {
   "cell_type": "markdown",
   "metadata": {},
   "source": [
    "# Your First Programs"
   ]
  },
  {
   "cell_type": "markdown",
   "metadata": {},
   "source": [
    "Look at the code below"
   ]
  },
  {
   "cell_type": "code",
   "execution_count": null,
   "metadata": {},
   "outputs": [],
   "source": [
    "colour = input ( \"What is your favourite colour?\" )\n",
    "print (\" I like\" , colour , \"too\" )"
   ]
  },
  {
   "cell_type": "code",
   "execution_count": null,
   "metadata": {},
   "outputs": [],
   "source": [
    "numl = int ( input (\"Enter a number : \" ))\n",
    "num2 = int ( input ( \"Enter a number : \" ))\n",
    "total = numl + num2\n",
    "print (total)"
   ]
  },
  {
   "cell_type": "markdown",
   "metadata": {},
   "source": [
    "### Complete these programming challenges:"
   ]
  },
  {
   "cell_type": "markdown",
   "metadata": {},
   "source": [
    "#### Challenge 1\n",
    "Ask the user to input a country name. Display the output the message “I\n",
    "would love to go to [country]”"
   ]
  },
  {
   "cell_type": "code",
   "execution_count": 5,
   "metadata": {},
   "outputs": [],
   "source": [
    "# Write your code here"
   ]
  },
  {
   "cell_type": "markdown",
   "metadata": {},
   "source": [
    "---\n",
    "### Challenge 2\n",
    "Ask the user for their favourite pizza topping. Once they have typed in their answer, display\n",
    "the response “Yuck, [topping] on a pizza is disgusting”"
   ]
  },
  {
   "cell_type": "code",
   "execution_count": null,
   "metadata": {},
   "outputs": [],
   "source": [
    "# Write your code here"
   ]
  },
  {
   "cell_type": "markdown",
   "metadata": {},
   "source": [
    "---\n",
    "### Challenge 3\n",
    "Request the user to enter the names of their two best friends. Then output a sentence like \"[Friend 1] and [Friend 2] are my best friends.\""
   ]
  },
  {
   "cell_type": "code",
   "execution_count": null,
   "metadata": {},
   "outputs": [],
   "source": [
    "# Write your code here"
   ]
  },
  {
   "cell_type": "markdown",
   "metadata": {},
   "source": [
    "---\n",
    "### Challenge 4\n",
    "Ask the user for their favorite book and author. Display a sentence like \"My favorite book, [book], is written by [author].\""
   ]
  },
  {
   "cell_type": "code",
   "execution_count": null,
   "metadata": {},
   "outputs": [],
   "source": [
    "# Write your code here"
   ]
  },
  {
   "cell_type": "markdown",
   "metadata": {},
   "source": [
    "---\n",
    "### Challenge 5\n",
    "Have the user input three different food items. Then output a sentence like \"For dinner, I will have [food 1], [food 2], and [food 3].\""
   ]
  },
  {
   "cell_type": "code",
   "execution_count": null,
   "metadata": {},
   "outputs": [],
   "source": [
    "# Write your code here"
   ]
  },
  {
   "cell_type": "markdown",
   "metadata": {},
   "source": [
    "---\n",
    "### Challenge 6\n",
    "Ask the user to enter 2 numbers, multiply them\n",
    "together and display the answer."
   ]
  },
  {
   "cell_type": "code",
   "execution_count": null,
   "metadata": {},
   "outputs": [],
   "source": [
    "# Write your code here"
   ]
  },
  {
   "cell_type": "markdown",
   "metadata": {},
   "source": [
    "---\n",
    "### Challenge 7\n",
    "Ask the user to enter a number and multiply it by 6. Add three to the total and display the answer."
   ]
  },
  {
   "cell_type": "code",
   "execution_count": null,
   "metadata": {},
   "outputs": [],
   "source": [
    "# Write your code here"
   ]
  },
  {
   "cell_type": "markdown",
   "metadata": {},
   "source": [
    "---\n",
    "### Challenge 8\n",
    "Request the user to input the number of hours they sleep each night. Calculate and display the total number of hours they sleep in a week."
   ]
  },
  {
   "cell_type": "code",
   "execution_count": null,
   "metadata": {},
   "outputs": [],
   "source": [
    "# Write your code here"
   ]
  },
  {
   "cell_type": "markdown",
   "metadata": {},
   "source": [
    "---\n",
    "### Challenge 9\n",
    "Ask the user for their birth year. Calculate and display their age in 2023."
   ]
  },
  {
   "cell_type": "code",
   "execution_count": null,
   "metadata": {},
   "outputs": [],
   "source": [
    "# Write your code here"
   ]
  },
  {
   "cell_type": "markdown",
   "metadata": {},
   "source": [
    "---\n",
    "### Challenge 10\n",
    "Request the user to input the length and width of a room in meters. Calculate and display the area of the room."
   ]
  },
  {
   "cell_type": "code",
   "execution_count": null,
   "metadata": {},
   "outputs": [],
   "source": [
    "# Write your code here"
   ]
  },
  {
   "cell_type": "markdown",
   "metadata": {},
   "source": [
    "---\n",
    "### Challenge 11\n",
    "Have the user input the current temperature in Celsius. Convert it to Fahrenheit and display the result. (Formula: Fahrenheit = Celsius * 9/5 + 32)"
   ]
  },
  {
   "cell_type": "code",
   "execution_count": null,
   "metadata": {},
   "outputs": [],
   "source": [
    "# Write your code here"
   ]
  },
  {
   "cell_type": "markdown",
   "metadata": {},
   "source": [
    "---\n",
    "### Challenge 12\n",
    "Request the user to input the amount of money they have. Then ask how much a candy costs and calculate how many candies they can buy. Display the result."
   ]
  },
  {
   "cell_type": "code",
   "execution_count": null,
   "metadata": {},
   "outputs": [],
   "source": [
    "# Write your code here"
   ]
  },
  {
   "cell_type": "markdown",
   "metadata": {},
   "source": [
    "---\n",
    "###  Challenge 13\n",
    "Ask the user to measure the height of their desk in centimetres and enter that\n",
    "into a program. Then ask the user to measure the width of their desk in\n",
    "centimetres and enter that into a program. Finally ask the user to measure\n",
    "the depth of their desk in centimetres and enter that into a program. The\n",
    "program should then work out the total area the desk takes up.\n",
    "\n",
    "**This code will allow the user to input a floating-point number (a floating-point\n",
    "number includes decimal places):**\n",
    "\n",
    "    num = float (input (\"Enter a number with a decimal place : \" ))\n",
    "    answer = num * 3\n",
    "    print (answer)"
   ]
  },
  {
   "cell_type": "code",
   "execution_count": null,
   "metadata": {},
   "outputs": [],
   "source": [
    "# Write your code here"
   ]
  },
  {
   "cell_type": "markdown",
   "metadata": {},
   "source": [
    "---\n",
    "### Challenge 14\n",
    "Ask the user for the total price of a mobile phone if they were to buy it new.\n",
    "Ask them how many months they want the contract for (12, 24 or 36) and\n",
    "divide the total price by the number of months. Add $15 onto the monthly\n",
    "cost of the phone which will cover calls, texts and data usage, to find out\n",
    "how much they would get charged in total each month for their new phone\n",
    "and display the answer as \"The total cost per month will be [charge]” ."
   ]
  },
  {
   "cell_type": "code",
   "execution_count": null,
   "metadata": {},
   "outputs": [],
   "source": [
    "# Write your code here"
   ]
  },
  {
   "cell_type": "markdown",
   "metadata": {},
   "source": [
    "---\n",
    "### Challenge 15\n",
    "Ask the user for the total price of an item of clothing and the sale price or the\n",
    "same item of clothing and display the answer “You have saved $[saving]\n",
    "today”"
   ]
  },
  {
   "cell_type": "code",
   "execution_count": null,
   "metadata": {},
   "outputs": [],
   "source": [
    "# Write your code here"
   ]
  }
 ],
 "metadata": {
  "kernelspec": {
   "display_name": "venv",
   "language": "python",
   "name": "python3"
  },
  "language_info": {
   "codemirror_mode": {
    "name": "ipython",
    "version": 3
   },
   "file_extension": ".py",
   "mimetype": "text/x-python",
   "name": "python",
   "nbconvert_exporter": "python",
   "pygments_lexer": "ipython3",
   "version": "3.10.12"
  }
 },
 "nbformat": 4,
 "nbformat_minor": 2
}
